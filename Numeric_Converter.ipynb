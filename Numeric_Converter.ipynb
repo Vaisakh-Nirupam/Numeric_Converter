{
  "cells": [
    {
      "cell_type": "code",
      "execution_count": 1,
      "metadata": {
        "id": "Eb8B8itp8Hgy"
      },
      "outputs": [],
      "source": [
        "import pandas as pd\n",
        "import numpy as np"
      ]
    },
    {
      "cell_type": "markdown",
      "metadata": {
        "id": "5jboVehy37OB"
      },
      "source": [
        "#**Numeric Converter**\n",
        "---\n",
        "Purpose:\n",
        "Converts values that should be numeric but are currently stored in other formats (like strings) into their correct numeric types.\n",
        "\n",
        "How to Use:\n",
        "\n",
        "1. (Optional) Create a copy of your DataFrame containing only the columns that need numeric conversion.\n",
        "\n",
        "\n",
        "2. Pass this DataFrame into the Numeric Converter function.\n",
        "\n",
        "\n",
        "3. The function returns a new DataFrame where values that are meant to be numeric are converted to their proper types (int, float, etc.).\n"
      ]
    },
    {
      "cell_type": "code",
      "execution_count": 2,
      "metadata": {
        "id": "l6p-G6lkOpSe"
      },
      "outputs": [],
      "source": [
        "# Numeric Converter ~NC\n",
        "def Numeric_Converter(df):\n",
        "  df_cpy = df.copy()\n",
        "  df_cpy.dropna(inplace=True)\n",
        "  dfc = df_cpy.copy()\n",
        "\n",
        "  for i in dfc:\n",
        "    if dfc[i].dtype == 'object':\n",
        "\n",
        "          pun = '!\"#$%&\\'()*+,-/:;<=>?@[\\\\]^_`{|}~₹€£'\n",
        "          alp = 'abcdefghijklmnopqrstuvwxyzABCDEFGHIJKLMNOPQRSTUVWXYZ'\n",
        "          dfc[i] = dfc[i].apply(func = lambda x : x.split()[0])\n",
        "\n",
        "          for j in pun:\n",
        "            dfc[i] = dfc[i].str.replace(j,\"\")\n",
        "\n",
        "          if dfc[i].str.isalpha().all():\n",
        "            continue\n",
        "\n",
        "          for k in alp:\n",
        "            dfc[i] = dfc[i].str.replace(k,\"\")\n",
        "          else:\n",
        "            df_cpy[i] = pd.to_numeric(dfc[i], errors=\"coerce\")\n",
        "\n",
        "  return df_cpy\n"
      ]
    },
    {
      "cell_type": "markdown",
      "metadata": {
        "id": "l8p1aoIh-r13"
      },
      "source": [
        "#**Working**"
      ]
    },
    {
      "cell_type": "markdown",
      "metadata": {
        "id": "uNF517RNW_Ri"
      },
      "source": [
        "1. Importing the dataset that required cleaning"
      ]
    },
    {
      "cell_type": "code",
      "execution_count": 3,
      "metadata": {
        "id": "ubSLONIlOnh9"
      },
      "outputs": [],
      "source": [
        "df = pd.read_csv('Dataset/Car dekho.csv')"
      ]
    },
    {
      "cell_type": "markdown",
      "metadata": {
        "id": "fJqR67htWrSi"
      },
      "source": [
        "2. Calling Numeric_Converter Function"
      ]
    },
    {
      "cell_type": "code",
      "execution_count": 4,
      "metadata": {
        "id": "Ozxhpv8T6t4A"
      },
      "outputs": [],
      "source": [
        "df_new = Numeric_Converter(df)"
      ]
    },
    {
      "cell_type": "markdown",
      "metadata": {
        "id": "0XWDcH8sXexE"
      },
      "source": [
        "# Old Dataset"
      ]
    },
    {
      "cell_type": "code",
      "execution_count": 5,
      "metadata": {
        "colab": {
          "base_uri": "https://localhost:8080/",
          "height": 469
        },
        "id": "Apnj8cEHXkjz",
        "outputId": "5b616168-2d3f-4cf8-b79f-37b79d0bf9cd"
      },
      "outputs": [
        {
          "data": {
            "text/html": [
              "<div>\n",
              "<style scoped>\n",
              "    .dataframe tbody tr th:only-of-type {\n",
              "        vertical-align: middle;\n",
              "    }\n",
              "\n",
              "    .dataframe tbody tr th {\n",
              "        vertical-align: top;\n",
              "    }\n",
              "\n",
              "    .dataframe thead th {\n",
              "        text-align: right;\n",
              "    }\n",
              "</style>\n",
              "<table border=\"1\" class=\"dataframe\">\n",
              "  <thead>\n",
              "    <tr style=\"text-align: right;\">\n",
              "      <th></th>\n",
              "      <th>Name</th>\n",
              "      <th>year</th>\n",
              "      <th>selling_price</th>\n",
              "      <th>km_driven</th>\n",
              "      <th>fuel</th>\n",
              "      <th>seller_type</th>\n",
              "      <th>transmission</th>\n",
              "      <th>owner</th>\n",
              "      <th>mileage</th>\n",
              "      <th>engine</th>\n",
              "      <th>max_power</th>\n",
              "      <th>torque</th>\n",
              "      <th>seats</th>\n",
              "    </tr>\n",
              "  </thead>\n",
              "  <tbody>\n",
              "    <tr>\n",
              "      <th>0</th>\n",
              "      <td>Maruti Alto 800 LXI Opt</td>\n",
              "      <td>2023</td>\n",
              "      <td>410000</td>\n",
              "      <td>10000</td>\n",
              "      <td>Petrol</td>\n",
              "      <td>Individual</td>\n",
              "      <td>Manual</td>\n",
              "      <td>First Owner</td>\n",
              "      <td>19.03 kmpl</td>\n",
              "      <td>999 CC</td>\n",
              "      <td>71.01bhp</td>\n",
              "      <td>96Nm</td>\n",
              "      <td>5.0</td>\n",
              "    </tr>\n",
              "    <tr>\n",
              "      <th>1</th>\n",
              "      <td>Skoda Slavia 1.0 TSI Ambition</td>\n",
              "      <td>2023</td>\n",
              "      <td>1350000</td>\n",
              "      <td>10000</td>\n",
              "      <td>Petrol</td>\n",
              "      <td>Individual</td>\n",
              "      <td>Manual</td>\n",
              "      <td>First Owner</td>\n",
              "      <td>14.08 kmpl</td>\n",
              "      <td>1956 CC</td>\n",
              "      <td>167.67bhp</td>\n",
              "      <td>350nm</td>\n",
              "      <td>5.0</td>\n",
              "    </tr>\n",
              "    <tr>\n",
              "      <th>2</th>\n",
              "      <td>BMW 3 Series Gran Limousine 320Ld Luxury Line</td>\n",
              "      <td>2023</td>\n",
              "      <td>5800000</td>\n",
              "      <td>1000</td>\n",
              "      <td>Diesel</td>\n",
              "      <td>Dealer</td>\n",
              "      <td>Automatic</td>\n",
              "      <td>First Owner</td>\n",
              "      <td>18.15 kmpl</td>\n",
              "      <td>998 CC</td>\n",
              "      <td>118.35bhp</td>\n",
              "      <td>172Nm</td>\n",
              "      <td>5.0</td>\n",
              "    </tr>\n",
              "    <tr>\n",
              "      <th>3</th>\n",
              "      <td>MG ZS EV Exclusive</td>\n",
              "      <td>2023</td>\n",
              "      <td>2650000</td>\n",
              "      <td>10000</td>\n",
              "      <td>Electric</td>\n",
              "      <td>Dealer</td>\n",
              "      <td>Automatic</td>\n",
              "      <td>First Owner</td>\n",
              "      <td>32.52 kmpl</td>\n",
              "      <td>998 CC</td>\n",
              "      <td>58.33bhp</td>\n",
              "      <td>78Nm</td>\n",
              "      <td>5.0</td>\n",
              "    </tr>\n",
              "    <tr>\n",
              "      <th>4</th>\n",
              "      <td>Tata Punch Adventure</td>\n",
              "      <td>2023</td>\n",
              "      <td>715000</td>\n",
              "      <td>10000</td>\n",
              "      <td>Petrol</td>\n",
              "      <td>Individual</td>\n",
              "      <td>Manual</td>\n",
              "      <td>First Owner</td>\n",
              "      <td>12.15 kmpl</td>\n",
              "      <td>1451 CC</td>\n",
              "      <td>141bhp</td>\n",
              "      <td>250Nm</td>\n",
              "      <td>5.0</td>\n",
              "    </tr>\n",
              "  </tbody>\n",
              "</table>\n",
              "</div>"
            ],
            "text/plain": [
              "                                             Name  year  selling_price  \\\n",
              "0                         Maruti Alto 800 LXI Opt  2023         410000   \n",
              "1                   Skoda Slavia 1.0 TSI Ambition  2023        1350000   \n",
              "2   BMW 3 Series Gran Limousine 320Ld Luxury Line  2023        5800000   \n",
              "3                              MG ZS EV Exclusive  2023        2650000   \n",
              "4                            Tata Punch Adventure  2023         715000   \n",
              "\n",
              "   km_driven      fuel seller_type transmission        owner     mileage  \\\n",
              "0      10000    Petrol  Individual       Manual  First Owner  19.03 kmpl   \n",
              "1      10000    Petrol  Individual       Manual  First Owner  14.08 kmpl   \n",
              "2       1000    Diesel      Dealer    Automatic  First Owner  18.15 kmpl   \n",
              "3      10000  Electric      Dealer    Automatic  First Owner  32.52 kmpl   \n",
              "4      10000    Petrol  Individual       Manual  First Owner  12.15 kmpl   \n",
              "\n",
              "    engine  max_power torque  seats  \n",
              "0   999 CC   71.01bhp   96Nm    5.0  \n",
              "1  1956 CC  167.67bhp  350nm    5.0  \n",
              "2   998 CC  118.35bhp  172Nm    5.0  \n",
              "3   998 CC   58.33bhp   78Nm    5.0  \n",
              "4  1451 CC     141bhp  250Nm    5.0  "
            ]
          },
          "execution_count": 5,
          "metadata": {},
          "output_type": "execute_result"
        }
      ],
      "source": [
        "df.head()"
      ]
    },
    {
      "cell_type": "markdown",
      "metadata": {
        "id": "pCODF9zqXofJ"
      },
      "source": [
        "# New Dataset"
      ]
    },
    {
      "cell_type": "code",
      "execution_count": 6,
      "metadata": {
        "colab": {
          "base_uri": "https://localhost:8080/",
          "height": 469
        },
        "id": "tVDWCSMSXuBK",
        "outputId": "bfe47481-11c0-43b6-f05c-582844c6417e"
      },
      "outputs": [
        {
          "data": {
            "text/html": [
              "<div>\n",
              "<style scoped>\n",
              "    .dataframe tbody tr th:only-of-type {\n",
              "        vertical-align: middle;\n",
              "    }\n",
              "\n",
              "    .dataframe tbody tr th {\n",
              "        vertical-align: top;\n",
              "    }\n",
              "\n",
              "    .dataframe thead th {\n",
              "        text-align: right;\n",
              "    }\n",
              "</style>\n",
              "<table border=\"1\" class=\"dataframe\">\n",
              "  <thead>\n",
              "    <tr style=\"text-align: right;\">\n",
              "      <th></th>\n",
              "      <th>Name</th>\n",
              "      <th>year</th>\n",
              "      <th>selling_price</th>\n",
              "      <th>km_driven</th>\n",
              "      <th>fuel</th>\n",
              "      <th>seller_type</th>\n",
              "      <th>transmission</th>\n",
              "      <th>owner</th>\n",
              "      <th>mileage</th>\n",
              "      <th>engine</th>\n",
              "      <th>max_power</th>\n",
              "      <th>torque</th>\n",
              "      <th>seats</th>\n",
              "    </tr>\n",
              "  </thead>\n",
              "  <tbody>\n",
              "    <tr>\n",
              "      <th>0</th>\n",
              "      <td>Maruti Alto 800 LXI Opt</td>\n",
              "      <td>2023</td>\n",
              "      <td>410000</td>\n",
              "      <td>10000</td>\n",
              "      <td>Petrol</td>\n",
              "      <td>Individual</td>\n",
              "      <td>Manual</td>\n",
              "      <td>First Owner</td>\n",
              "      <td>19.03</td>\n",
              "      <td>999</td>\n",
              "      <td>71.01</td>\n",
              "      <td>96.0</td>\n",
              "      <td>5.0</td>\n",
              "    </tr>\n",
              "    <tr>\n",
              "      <th>1</th>\n",
              "      <td>Skoda Slavia 1.0 TSI Ambition</td>\n",
              "      <td>2023</td>\n",
              "      <td>1350000</td>\n",
              "      <td>10000</td>\n",
              "      <td>Petrol</td>\n",
              "      <td>Individual</td>\n",
              "      <td>Manual</td>\n",
              "      <td>First Owner</td>\n",
              "      <td>14.08</td>\n",
              "      <td>1956</td>\n",
              "      <td>167.67</td>\n",
              "      <td>350.0</td>\n",
              "      <td>5.0</td>\n",
              "    </tr>\n",
              "    <tr>\n",
              "      <th>2</th>\n",
              "      <td>BMW 3 Series Gran Limousine 320Ld Luxury Line</td>\n",
              "      <td>2023</td>\n",
              "      <td>5800000</td>\n",
              "      <td>1000</td>\n",
              "      <td>Diesel</td>\n",
              "      <td>Dealer</td>\n",
              "      <td>Automatic</td>\n",
              "      <td>First Owner</td>\n",
              "      <td>18.15</td>\n",
              "      <td>998</td>\n",
              "      <td>118.35</td>\n",
              "      <td>172.0</td>\n",
              "      <td>5.0</td>\n",
              "    </tr>\n",
              "    <tr>\n",
              "      <th>3</th>\n",
              "      <td>MG ZS EV Exclusive</td>\n",
              "      <td>2023</td>\n",
              "      <td>2650000</td>\n",
              "      <td>10000</td>\n",
              "      <td>Electric</td>\n",
              "      <td>Dealer</td>\n",
              "      <td>Automatic</td>\n",
              "      <td>First Owner</td>\n",
              "      <td>32.52</td>\n",
              "      <td>998</td>\n",
              "      <td>58.33</td>\n",
              "      <td>78.0</td>\n",
              "      <td>5.0</td>\n",
              "    </tr>\n",
              "    <tr>\n",
              "      <th>4</th>\n",
              "      <td>Tata Punch Adventure</td>\n",
              "      <td>2023</td>\n",
              "      <td>715000</td>\n",
              "      <td>10000</td>\n",
              "      <td>Petrol</td>\n",
              "      <td>Individual</td>\n",
              "      <td>Manual</td>\n",
              "      <td>First Owner</td>\n",
              "      <td>12.15</td>\n",
              "      <td>1451</td>\n",
              "      <td>141.00</td>\n",
              "      <td>250.0</td>\n",
              "      <td>5.0</td>\n",
              "    </tr>\n",
              "  </tbody>\n",
              "</table>\n",
              "</div>"
            ],
            "text/plain": [
              "                                             Name  year  selling_price  \\\n",
              "0                         Maruti Alto 800 LXI Opt  2023         410000   \n",
              "1                   Skoda Slavia 1.0 TSI Ambition  2023        1350000   \n",
              "2   BMW 3 Series Gran Limousine 320Ld Luxury Line  2023        5800000   \n",
              "3                              MG ZS EV Exclusive  2023        2650000   \n",
              "4                            Tata Punch Adventure  2023         715000   \n",
              "\n",
              "   km_driven      fuel seller_type transmission        owner  mileage  engine  \\\n",
              "0      10000    Petrol  Individual       Manual  First Owner    19.03     999   \n",
              "1      10000    Petrol  Individual       Manual  First Owner    14.08    1956   \n",
              "2       1000    Diesel      Dealer    Automatic  First Owner    18.15     998   \n",
              "3      10000  Electric      Dealer    Automatic  First Owner    32.52     998   \n",
              "4      10000    Petrol  Individual       Manual  First Owner    12.15    1451   \n",
              "\n",
              "   max_power  torque  seats  \n",
              "0      71.01    96.0    5.0  \n",
              "1     167.67   350.0    5.0  \n",
              "2     118.35   172.0    5.0  \n",
              "3      58.33    78.0    5.0  \n",
              "4     141.00   250.0    5.0  "
            ]
          },
          "execution_count": 6,
          "metadata": {},
          "output_type": "execute_result"
        }
      ],
      "source": [
        "df_new.head()"
      ]
    },
    {
      "cell_type": "markdown",
      "metadata": {
        "id": "xQefstaiX2za"
      },
      "source": [
        "# Code Impact"
      ]
    },
    {
      "cell_type": "markdown",
      "metadata": {
        "id": "l0MBoMsjX5vZ"
      },
      "source": [
        "* Codes previously used to shape the dataset to this level:\n",
        "\n",
        "1. `df.dropna(inplace=True)`  \n",
        "2. `df.reset_index(drop=True, inplace=True)`  \n",
        "3. `df[\"mileage\"] = df[\"mileage\"].str.strip(\" kmplg/\")`  \n",
        "   `df[\"mileage\"] = df[\"mileage\"].astype(float)`  \n",
        "4. `df[\"engine\"] = df[\"engine\"].str.strip(\" C\")`  \n",
        "   `df[\"engine\"] = df[\"engine\"].astype(int)`  \n",
        "5. `df[\"max_power\"] = df[\"max_power\"].str.strip(\" bhp\")`  \n",
        "   `df[\"max_power\"] = df[\"max_power\"].astype(float)`  \n",
        "6. `df[\"torque\"] = df[\"torque\"].apply(func=lambda x: x.upper().split()[0])`  \n",
        "   `df[\"torque\"] = df[\"torque\"].apply(func=lambda x: x.upper().split(\"N\")[0])`  \n",
        "   `df[\"torque\"] = df[\"torque\"].apply(func=lambda x: x.upper().split(\"K\")[0])`  \n",
        "   `df[\"torque\"] = df[\"torque\"].apply(func=lambda x: x.upper().split(\"@\")[0])`  \n",
        "   `df[\"torque\"] = df[\"torque\"].apply(func=lambda x: x.upper().split(\"(\")[0])`  \n",
        "   `df[\"torque\"] = df[\"torque\"].astype(float)`"
      ]
    },
    {
      "cell_type": "markdown",
      "metadata": {
        "id": "vTfH6rIibuea"
      },
      "source": [
        "* This function simplifies the entire process, replacing multiple lines of code and all the hard thinking with just one step:\n",
        "\n",
        "1. `df_new = Numeric_Converter(df)`"
      ]
    }
  ],
  "metadata": {
    "colab": {
      "provenance": []
    },
    "kernelspec": {
      "display_name": "Python 3",
      "name": "python3"
    },
    "language_info": {
      "codemirror_mode": {
        "name": "ipython",
        "version": 3
      },
      "file_extension": ".py",
      "mimetype": "text/x-python",
      "name": "python",
      "nbconvert_exporter": "python",
      "pygments_lexer": "ipython3",
      "version": "3.10.11"
    }
  },
  "nbformat": 4,
  "nbformat_minor": 0
}
